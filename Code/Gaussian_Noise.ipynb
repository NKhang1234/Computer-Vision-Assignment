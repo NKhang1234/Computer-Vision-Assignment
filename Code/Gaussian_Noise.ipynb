{
 "cells": [
  {
   "cell_type": "code",
   "execution_count": 2,
   "id": "bfceb0c4-c70d-4614-955f-d120ea193e39",
   "metadata": {},
   "outputs": [],
   "source": [
    "import os\n",
    "import cv2\n",
    "import numpy as np"
   ]
  },
  {
   "cell_type": "code",
   "execution_count": 3,
   "id": "a9208bc1-b6c5-408d-b2a8-f9b6f9ff1a3b",
   "metadata": {},
   "outputs": [],
   "source": [
    "def add_gaussian_noise(image, mean=0, std_dev=25):\n",
    "    noise = np.random.normal(mean, std_dev, image.shape).astype(np.float32)\n",
    "    noisy_image = image.astype(np.float32) + noise\n",
    "    noisy_image = np.clip(noisy_image, 0, 255).astype(np.uint8)\n",
    "    return noisy_image"
   ]
  },
  {
   "cell_type": "code",
   "execution_count": 4,
   "id": "57706afa-33f8-49c5-a8b6-81d188d9b991",
   "metadata": {},
   "outputs": [],
   "source": [
    "source_folder = \"../Image_Dataset/Original_Images\"\n",
    "destination_folder = \"../Image_Dataset/Gaussian_Images\"\n",
    "if not os.path.exists(destination_folder):\n",
    "    os.makedirs(destination_folder)"
   ]
  },
  {
   "cell_type": "code",
   "execution_count": 5,
   "id": "339084ef-3e8c-461a-82ed-6ca61e2ceb39",
   "metadata": {},
   "outputs": [
    {
     "name": "stdout",
     "output_type": "stream",
     "text": [
      "Processed and saved: ../Image_Dataset/Gaussian_Images\\GaussianNoise_Image_a.jpg\n",
      "Processed and saved: ../Image_Dataset/Gaussian_Images\\GaussianNoise_Image_b.jpg\n",
      "Processed and saved: ../Image_Dataset/Gaussian_Images\\GaussianNoise_Image_c.jpg\n",
      "Processed and saved: ../Image_Dataset/Gaussian_Images\\GaussianNoise_Image_d.jpg\n",
      "Processed and saved: ../Image_Dataset/Gaussian_Images\\GaussianNoise_Image_e.jpg\n",
      "Processed and saved: ../Image_Dataset/Gaussian_Images\\GaussianNoise_Image_f.jpg\n",
      "Processed and saved: ../Image_Dataset/Gaussian_Images\\GaussianNoise_Image_g.jpg\n",
      "Processed and saved: ../Image_Dataset/Gaussian_Images\\GaussianNoise_Image_h.jpg\n",
      "Processed and saved: ../Image_Dataset/Gaussian_Images\\GaussianNoise_Image_i.jpg\n",
      "Processed and saved: ../Image_Dataset/Gaussian_Images\\GaussianNoise_Image_j.jpg\n",
      "Processed and saved: ../Image_Dataset/Gaussian_Images\\GaussianNoise_Image_k.jpg\n",
      "Processed and saved: ../Image_Dataset/Gaussian_Images\\GaussianNoise_Image_l.jpg\n",
      "Processed and saved: ../Image_Dataset/Gaussian_Images\\GaussianNoise_Image_m.jpg\n",
      "Processed and saved: ../Image_Dataset/Gaussian_Images\\GaussianNoise_Image_n.jpg\n",
      "Processed and saved: ../Image_Dataset/Gaussian_Images\\GaussianNoise_Image_o.jpg\n",
      "Processed and saved: ../Image_Dataset/Gaussian_Images\\GaussianNoise_Image_p.jpg\n",
      "Processed and saved: ../Image_Dataset/Gaussian_Images\\GaussianNoise_Image_q.jpg\n",
      "Processed and saved: ../Image_Dataset/Gaussian_Images\\GaussianNoise_Image_r.jpg\n",
      "Processed and saved: ../Image_Dataset/Gaussian_Images\\GaussianNoise_Image_s.jpg\n",
      "Processed and saved: ../Image_Dataset/Gaussian_Images\\GaussianNoise_Image_t.jpg\n",
      "Add Gaussian Noise successfully!\n"
     ]
    }
   ],
   "source": [
    "for filename in os.listdir(source_folder):\n",
    "    image_path = os.path.join(source_folder, filename)\n",
    "    if filename.lower().endswith(('.png', '.jpg', '.jpeg')):\n",
    "        image = cv2.imread(image_path, cv2.IMREAD_GRAYSCALE)\n",
    "        if image is not None:\n",
    "            mean = 0\n",
    "            std_dev = 10\n",
    "            noisy_image = add_gaussian_noise(image, mean, std_dev)\n",
    "            noisy_image_path = os.path.join(destination_folder, f\"GaussianNoise_{filename}\")\n",
    "            cv2.imwrite(noisy_image_path, noisy_image)\n",
    "            print(f\"Processed and saved: {noisy_image_path}\")\n",
    "        else:\n",
    "            print(f\"Failed to read image: {image_path}\")\n",
    "print(\"Add Gaussian Noise successfully!\")"
   ]
  },
  {
   "cell_type": "code",
   "execution_count": null,
   "id": "b5c3598d-276f-42c8-8bff-db0956337a3b",
   "metadata": {},
   "outputs": [],
   "source": []
  }
 ],
 "metadata": {
  "kernelspec": {
   "display_name": "Python 3 (ipykernel)",
   "language": "python",
   "name": "python3"
  },
  "language_info": {
   "codemirror_mode": {
    "name": "ipython",
    "version": 3
   },
   "file_extension": ".py",
   "mimetype": "text/x-python",
   "name": "python",
   "nbconvert_exporter": "python",
   "pygments_lexer": "ipython3",
   "version": "3.10.13"
  }
 },
 "nbformat": 4,
 "nbformat_minor": 5
}
