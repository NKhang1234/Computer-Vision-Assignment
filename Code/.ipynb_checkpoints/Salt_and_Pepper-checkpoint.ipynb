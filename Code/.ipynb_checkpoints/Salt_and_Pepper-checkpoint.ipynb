{
 "cells": [
  {
   "cell_type": "code",
   "execution_count": 13,
   "id": "2d9fdfdd-41b6-407c-9b60-206ae3a38fb4",
   "metadata": {},
   "outputs": [],
   "source": [
    "import os\n",
    "import cv2\n",
    "import numpy as np"
   ]
  },
  {
   "cell_type": "code",
   "execution_count": 14,
   "id": "ec47c5ed-d759-4d3a-8cf5-4143e8d98c37",
   "metadata": {},
   "outputs": [],
   "source": [
    "def add_salt_and_pepper_noise(image, amount=0.05):\n",
    "    noisy_image = np.copy(image)\n",
    "    total_pixels = image.size\n",
    "    \n",
    "    num_salt = int(total_pixels * amount / 2)\n",
    "    num_pepper = int(total_pixels * amount / 2)\n",
    "    \n",
    "    salt_coords = [np.random.randint(0, i - 1, num_salt) for i in image.shape]\n",
    "    noisy_image[salt_coords[0], salt_coords[1], :] = 255 \n",
    "\n",
    "    pepper_coords = [np.random.randint(0, i - 1, num_pepper) for i in image.shape]\n",
    "    noisy_image[pepper_coords[0], pepper_coords[1], :] = 0\n",
    "\n",
    "    return noisy_image"
   ]
  },
  {
   "cell_type": "code",
   "execution_count": 15,
   "id": "e899625e-5a6d-4e6f-a94e-ae05047cf9e9",
   "metadata": {},
   "outputs": [],
   "source": [
    "source_folder = \"../Image_Dataset/Original_Images\"  \n",
    "destination_folder = \"../Image_Dataset/Salt_and_Pepper_Images\" \n",
    "if not os.path.exists(destination_folder):\n",
    "    os.makedirs(destination_folder)"
   ]
  },
  {
   "cell_type": "code",
   "execution_count": 16,
   "id": "d6810725-12de-4867-8db2-7913a04946f6",
   "metadata": {},
   "outputs": [
    {
     "name": "stdout",
     "output_type": "stream",
     "text": [
      "Processed and saved: ../Image_Dataset/Salt_and_Pepper_Images\\Salt_and_Pepper_Image_1.jpg\n",
      "Processed and saved: ../Image_Dataset/Salt_and_Pepper_Images\\Salt_and_Pepper_Image_2.jpg\n",
      "Processed and saved: ../Image_Dataset/Salt_and_Pepper_Images\\Salt_and_Pepper_Image_3.jpg\n",
      "Processed and saved: ../Image_Dataset/Salt_and_Pepper_Images\\Salt_and_Pepper_Image_4.jpg\n",
      "Processed and saved: ../Image_Dataset/Salt_and_Pepper_Images\\Salt_and_Pepper_Image_5.jpg\n",
      "Processed and saved: ../Image_Dataset/Salt_and_Pepper_Images\\Salt_and_Pepper_Image_6.jpg\n",
      "Processed and saved: ../Image_Dataset/Salt_and_Pepper_Images\\Salt_and_Pepper_Image_7.jpg\n",
      "Processed and saved: ../Image_Dataset/Salt_and_Pepper_Images\\Salt_and_Pepper_Image_8.jpg\n",
      "Add Salt and Pepper noise successfully!\n"
     ]
    }
   ],
   "source": [
    "# Loop through the files in the source folder\n",
    "for filename in os.listdir(source_folder):\n",
    "    image_path = os.path.join(source_folder, filename)\n",
    "\n",
    "    if filename.lower().endswith(('.png', '.jpg')):\n",
    "        image = cv2.imread(image_path)\n",
    "        if image is not None:\n",
    "            noisy_image = add_salt_and_pepper_noise(image, amount=0.005)\n",
    "            noisy_image_path = os.path.join(destination_folder, f\"Salt_and_Pepper_{filename}\")\n",
    "            cv2.imwrite(noisy_image_path, noisy_image)\n",
    "            print(f\"Processed and saved: {noisy_image_path}\")\n",
    "        else:\n",
    "            print(f\"Failed to read image: {image_path}\")\n",
    "\n",
    "print(\"Add Salt and Pepper noise successfully!\")"
   ]
  }
 ],
 "metadata": {
  "kernelspec": {
   "display_name": "Python 3 (ipykernel)",
   "language": "python",
   "name": "python3"
  },
  "language_info": {
   "codemirror_mode": {
    "name": "ipython",
    "version": 3
   },
   "file_extension": ".py",
   "mimetype": "text/x-python",
   "name": "python",
   "nbconvert_exporter": "python",
   "pygments_lexer": "ipython3",
   "version": "3.10.13"
  }
 },
 "nbformat": 4,
 "nbformat_minor": 5
}
