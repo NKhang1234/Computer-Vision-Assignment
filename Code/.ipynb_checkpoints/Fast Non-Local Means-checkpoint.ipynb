{
 "cells": [
  {
   "cell_type": "code",
   "execution_count": 54,
   "id": "bac3886d-72f8-4519-8198-585315bf657e",
   "metadata": {},
   "outputs": [],
   "source": [
    "import cv2\n",
    "import numpy as np\n",
    "import os"
   ]
  },
  {
   "cell_type": "code",
   "execution_count": 55,
   "id": "041fe0f0-ed36-4c67-966d-1de1700e2951",
   "metadata": {},
   "outputs": [],
   "source": [
    "def fast_nl_means_denoising(image_path, h=10):\n",
    "    image = cv2.imread(image_path, cv2.IMREAD_GRAYSCALE)\n",
    "    if image is None:\n",
    "        raise ValueError(\"Image not found or invalid image path\")\n",
    "    denoised_image = cv2.fastNlMeansDenoising(image, None, h, 7, 51)\n",
    "    return denoised_image"
   ]
  },
  {
   "cell_type": "code",
   "execution_count": 56,
   "id": "cd95d9bd-5c7d-4292-ae42-a8de520415b3",
   "metadata": {},
   "outputs": [],
   "source": [
    "source_folder = \"../Image_Dataset/Salt_and_Pepper_Images\"  \n",
    "destination_folder = \"../Image_Dataset/FastNLM_SaltPepper_Images\"  \n",
    "if not os.path.exists(destination_folder):\n",
    "    os.makedirs(destination_folder)"
   ]
  },
  {
   "cell_type": "code",
   "execution_count": 57,
   "id": "ffe84117-180b-4c16-9d78-38c25ddb363d",
   "metadata": {},
   "outputs": [
    {
     "name": "stdout",
     "output_type": "stream",
     "text": [
      "Processed and saved: ../Image_Dataset/FastNLM_SaltPepper_Images\\FastNLM_Salt_and_Pepper_Image_1.jpg\n",
      "Processed and saved: ../Image_Dataset/FastNLM_SaltPepper_Images\\FastNLM_Salt_and_Pepper_Image_2.jpg\n",
      "Processed and saved: ../Image_Dataset/FastNLM_SaltPepper_Images\\FastNLM_Salt_and_Pepper_Image_3.jpg\n",
      "Processed and saved: ../Image_Dataset/FastNLM_SaltPepper_Images\\FastNLM_Salt_and_Pepper_Image_4.jpg\n",
      "Processed and saved: ../Image_Dataset/FastNLM_SaltPepper_Images\\FastNLM_Salt_and_Pepper_Image_5.jpg\n",
      "Processed and saved: ../Image_Dataset/FastNLM_SaltPepper_Images\\FastNLM_Salt_and_Pepper_Image_6.jpg\n",
      "Processed and saved: ../Image_Dataset/FastNLM_SaltPepper_Images\\FastNLM_Salt_and_Pepper_Image_7.jpg\n",
      "Processed and saved: ../Image_Dataset/FastNLM_SaltPepper_Images\\FastNLM_Salt_and_Pepper_Image_8.jpg\n",
      "Apply Fast Non-Local Means Successfully\n"
     ]
    }
   ],
   "source": [
    "for filename in os.listdir(source_folder):\n",
    "    image_path = os.path.join(source_folder, filename)\n",
    "    if filename.lower().endswith(('.png', '.jpg', '.jpeg')):\n",
    "        try:\n",
    "            denoised_image = fast_nl_means_denoising(image_path, h=13)\n",
    "            denoised_image_path = os.path.join(destination_folder, f\"FastNLM_{filename}\")\n",
    "            cv2.imwrite(denoised_image_path, denoised_image)\n",
    "            print(f\"Processed and saved: {denoised_image_path}\")\n",
    "        except Exception as e:\n",
    "            print(f\"Failed to process image {filename}: {e}\")\n",
    "\n",
    "print(\"Apply Fast Non-Local Means Successfully\")"
   ]
  }
 ],
 "metadata": {
  "kernelspec": {
   "display_name": "Python 3 (ipykernel)",
   "language": "python",
   "name": "python3"
  },
  "language_info": {
   "codemirror_mode": {
    "name": "ipython",
    "version": 3
   },
   "file_extension": ".py",
   "mimetype": "text/x-python",
   "name": "python",
   "nbconvert_exporter": "python",
   "pygments_lexer": "ipython3",
   "version": "3.10.13"
  }
 },
 "nbformat": 4,
 "nbformat_minor": 5
}
