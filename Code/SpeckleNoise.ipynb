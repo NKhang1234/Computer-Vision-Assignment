{
 "cells": [
  {
   "cell_type": "code",
   "execution_count": 1,
   "id": "c5753b52-c0ef-46bd-b3fb-4b34bda3b5ab",
   "metadata": {},
   "outputs": [],
   "source": [
    "import os\n",
    "import cv2\n",
    "import numpy as np"
   ]
  },
  {
   "cell_type": "code",
   "execution_count": 2,
   "id": "7f94489f-4492-48c6-ad2b-32a5fcf0ea6c",
   "metadata": {},
   "outputs": [],
   "source": [
    "def add_speckle_noise(image, mean=0, std_dev=0.05):\n",
    "    noise = np.random.normal(mean, std_dev, image.shape).astype(np.float32)\n",
    "    noisy_image = image.astype(np.float32) + image.astype(np.float32) * noise\n",
    "    noisy_image = np.clip(noisy_image, 0, 255).astype(np.uint8)\n",
    "    return noisy_image"
   ]
  },
  {
   "cell_type": "code",
   "execution_count": 3,
   "id": "7613bbec-bce4-4d87-821e-04528a8d5218",
   "metadata": {},
   "outputs": [],
   "source": [
    "source_folder = \"../Image_Dataset/Original_Images\"\n",
    "destination_folder = \"../Image_Dataset/Speckle_Images\"\n",
    "if not os.path.exists(destination_folder):\n",
    "    os.makedirs(destination_folder)"
   ]
  },
  {
   "cell_type": "code",
   "execution_count": 4,
   "id": "2021dc68-e9d2-4bf9-a991-81fa6f87db54",
   "metadata": {},
   "outputs": [
    {
     "name": "stdout",
     "output_type": "stream",
     "text": [
      "Processed and saved: ../Image_Dataset/Speckle_Images\\SpeckeNoise_Image_a.jpg\n",
      "Processed and saved: ../Image_Dataset/Speckle_Images\\SpeckeNoise_Image_b.jpg\n",
      "Processed and saved: ../Image_Dataset/Speckle_Images\\SpeckeNoise_Image_c.jpg\n",
      "Processed and saved: ../Image_Dataset/Speckle_Images\\SpeckeNoise_Image_d.jpg\n",
      "Processed and saved: ../Image_Dataset/Speckle_Images\\SpeckeNoise_Image_e.jpg\n",
      "Processed and saved: ../Image_Dataset/Speckle_Images\\SpeckeNoise_Image_f.jpg\n",
      "Processed and saved: ../Image_Dataset/Speckle_Images\\SpeckeNoise_Image_g.jpg\n",
      "Processed and saved: ../Image_Dataset/Speckle_Images\\SpeckeNoise_Image_h.jpg\n",
      "Processed and saved: ../Image_Dataset/Speckle_Images\\SpeckeNoise_Image_i.jpg\n",
      "Processed and saved: ../Image_Dataset/Speckle_Images\\SpeckeNoise_Image_j.jpg\n",
      "Processed and saved: ../Image_Dataset/Speckle_Images\\SpeckeNoise_Image_k.jpg\n",
      "Processed and saved: ../Image_Dataset/Speckle_Images\\SpeckeNoise_Image_l.jpg\n",
      "Processed and saved: ../Image_Dataset/Speckle_Images\\SpeckeNoise_Image_m.jpg\n",
      "Processed and saved: ../Image_Dataset/Speckle_Images\\SpeckeNoise_Image_n.jpg\n",
      "Processed and saved: ../Image_Dataset/Speckle_Images\\SpeckeNoise_Image_o.jpg\n",
      "Processed and saved: ../Image_Dataset/Speckle_Images\\SpeckeNoise_Image_p.jpg\n",
      "Processed and saved: ../Image_Dataset/Speckle_Images\\SpeckeNoise_Image_q.jpg\n",
      "Processed and saved: ../Image_Dataset/Speckle_Images\\SpeckeNoise_Image_r.jpg\n",
      "Processed and saved: ../Image_Dataset/Speckle_Images\\SpeckeNoise_Image_s.jpg\n",
      "Processed and saved: ../Image_Dataset/Speckle_Images\\SpeckeNoise_Image_t.jpg\n",
      "Add Speckle noise successfully!\n"
     ]
    }
   ],
   "source": [
    "for filename in os.listdir(source_folder):\n",
    "    image_path = os.path.join(source_folder, filename)\n",
    "    if filename.lower().endswith(('.png', '.jpg', '.jpeg')):\n",
    "        image = cv2.imread(image_path, cv2.IMREAD_GRAYSCALE)\n",
    "        if image is not None:\n",
    "            mean = 0 \n",
    "            std_dev = 0.05\n",
    "            noisy_image = add_speckle_noise(image, mean, std_dev)\n",
    "            noisy_image_path = os.path.join(destination_folder, f\"SpeckeNoise_{filename}\")\n",
    "            cv2.imwrite(noisy_image_path, noisy_image)\n",
    "            print(f\"Processed and saved: {noisy_image_path}\")\n",
    "        else:\n",
    "            print(f\"Failed to read image: {image_path}\")\n",
    "\n",
    "print(\"Add Speckle noise successfully!\")"
   ]
  }
 ],
 "metadata": {
  "kernelspec": {
   "display_name": "Python 3 (ipykernel)",
   "language": "python",
   "name": "python3"
  },
  "language_info": {
   "codemirror_mode": {
    "name": "ipython",
    "version": 3
   },
   "file_extension": ".py",
   "mimetype": "text/x-python",
   "name": "python",
   "nbconvert_exporter": "python",
   "pygments_lexer": "ipython3",
   "version": "3.10.13"
  }
 },
 "nbformat": 4,
 "nbformat_minor": 5
}
