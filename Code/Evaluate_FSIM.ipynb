{
 "cells": [
  {
   "cell_type": "code",
   "execution_count": 20,
   "id": "1e38494f-ac1d-4141-a23d-e0a09546384e",
   "metadata": {},
   "outputs": [],
   "source": [
    "import os\n",
    "import numpy as np\n",
    "import cv2\n",
    "from scipy.ndimage import sobel\n",
    "import pandas as pd"
   ]
  },
  {
   "cell_type": "code",
   "execution_count": 21,
   "id": "60b08ba9-c653-4da3-a215-edf71c15185d",
   "metadata": {},
   "outputs": [],
   "source": [
    "def phase_congruency(image):\n",
    "    grad_x = sobel(image, axis=0)\n",
    "    grad_y = sobel(image, axis=1)\n",
    "    grad_magnitude = np.sqrt(grad_x**2 + grad_y**2)\n",
    "    grad_orientation = np.arctan2(grad_y, grad_x)\n",
    "    return grad_magnitude * np.abs(np.cos(grad_orientation))"
   ]
  },
  {
   "cell_type": "code",
   "execution_count": 22,
   "id": "9437fc4e-7ca2-4a78-a6c9-0c0fcd4e1e2c",
   "metadata": {},
   "outputs": [],
   "source": [
    "def gradient_magnitude(image):\n",
    "    grad_x = sobel(image, axis=0)\n",
    "    grad_y = sobel(image, axis=1)\n",
    "    return np.sqrt(grad_x**2 + grad_y**2)"
   ]
  },
  {
   "cell_type": "code",
   "execution_count": 23,
   "id": "56f935d3-eef0-49e1-a9b5-23ab9cf4570f",
   "metadata": {},
   "outputs": [],
   "source": [
    "def compute_fsim(original, denoised):\n",
    "    pc_orig = phase_congruency(original)\n",
    "    pc_denoised = phase_congruency(denoised)\n",
    "    \n",
    "    grad_orig = gradient_magnitude(original)\n",
    "    grad_denoised = gradient_magnitude(denoised)\n",
    "    \n",
    "    pc_orig /= np.max(pc_orig)\n",
    "    pc_denoised /= np.max(pc_denoised)\n",
    "    \n",
    "    grad_orig /= np.max(grad_orig)\n",
    "    grad_denoised /= np.max(grad_denoised)\n",
    "    \n",
    "    pc_similarity = np.sum(np.abs(pc_orig - pc_denoised)) / np.sum(np.abs(pc_orig + pc_denoised))\n",
    "    grad_similarity = np.sum(np.abs(grad_orig - grad_denoised)) / np.sum(np.abs(grad_orig + grad_denoised))\n",
    "    \n",
    "    fsim_value = 1 - 0.5 * (pc_similarity + grad_similarity)\n",
    "    \n",
    "    return fsim_value"
   ]
  },
  {
   "cell_type": "code",
   "execution_count": 24,
   "id": "5645b7b1-7a75-4dba-81cd-26af579bd660",
   "metadata": {},
   "outputs": [],
   "source": [
    "def evaluate_fsim(original_folder, denoised_folder):\n",
    "    original_files = sorted(os.listdir(original_folder))\n",
    "    denoised_files = sorted(os.listdir(denoised_folder))\n",
    "\n",
    "    results = []\n",
    "\n",
    "    for orig_file, den_file in zip(original_files, denoised_files):\n",
    "        orig_path = os.path.join(original_folder, orig_file)\n",
    "        den_path = os.path.join(denoised_folder, den_file)\n",
    "        \n",
    "        original = cv2.imread(orig_path, cv2.IMREAD_GRAYSCALE)\n",
    "        denoised = cv2.imread(den_path, cv2.IMREAD_GRAYSCALE)\n",
    "\n",
    "        if original is None or denoised is None:\n",
    "            print(f\"Could not read {orig_file} or {den_file}. Skipping...\")\n",
    "            continue\n",
    "            \n",
    "        fsim_value = compute_fsim(original, denoised)\n",
    "        results.append({\"Original Image\": orig_file, \"Denoised Image\": den_file, \"FSIM\": fsim_value})\n",
    "\n",
    "    results_df = pd.DataFrame(results)\n",
    "\n",
    "    avg_fsim = results_df[\"FSIM\"].mean()\n",
    "    print(f\"\\nAverage FSIM: {avg_fsim:.4f}\")\n",
    "    \n",
    "    return results_df, avg_fsim"
   ]
  },
  {
   "cell_type": "code",
   "execution_count": 25,
   "id": "5d9e3532-55a1-4911-bcef-32370ad11575",
   "metadata": {},
   "outputs": [
    {
     "name": "stdout",
     "output_type": "stream",
     "text": [
      "Could not read .ipynb_checkpoints or .ipynb_checkpoints. Skipping...\n"
     ]
    },
    {
     "name": "stderr",
     "output_type": "stream",
     "text": [
      "C:\\Users\\84835\\AppData\\Local\\Temp\\ipykernel_6944\\1783377901.py:14: RuntimeWarning: invalid value encountered in scalar divide\n",
      "  pc_similarity = np.sum(np.abs(pc_orig - pc_denoised)) / np.sum(np.abs(pc_orig + pc_denoised))\n",
      "C:\\Users\\84835\\AppData\\Local\\Temp\\ipykernel_6944\\1783377901.py:15: RuntimeWarning: invalid value encountered in scalar divide\n",
      "  grad_similarity = np.sum(np.abs(grad_orig - grad_denoised)) / np.sum(np.abs(grad_orig + grad_denoised))\n"
     ]
    },
    {
     "name": "stdout",
     "output_type": "stream",
     "text": [
      "\n",
      "Average FSIM: nan\n"
     ]
    },
    {
     "data": {
      "text/html": [
       "<div>\n",
       "<style scoped>\n",
       "    .dataframe tbody tr th:only-of-type {\n",
       "        vertical-align: middle;\n",
       "    }\n",
       "\n",
       "    .dataframe tbody tr th {\n",
       "        vertical-align: top;\n",
       "    }\n",
       "\n",
       "    .dataframe thead th {\n",
       "        text-align: right;\n",
       "    }\n",
       "</style>\n",
       "<table border=\"1\" class=\"dataframe\">\n",
       "  <thead>\n",
       "    <tr style=\"text-align: right;\">\n",
       "      <th></th>\n",
       "      <th>Original Image</th>\n",
       "      <th>Denoised Image</th>\n",
       "      <th>FSIM</th>\n",
       "    </tr>\n",
       "  </thead>\n",
       "  <tbody>\n",
       "    <tr>\n",
       "      <th>0</th>\n",
       "      <td>Image_1.jpg</td>\n",
       "      <td>FastNLM_SpeckeNoise_Image_1.jpg</td>\n",
       "      <td>NaN</td>\n",
       "    </tr>\n",
       "    <tr>\n",
       "      <th>1</th>\n",
       "      <td>Image_2.jpg</td>\n",
       "      <td>FastNLM_SpeckeNoise_Image_2.jpg</td>\n",
       "      <td>NaN</td>\n",
       "    </tr>\n",
       "    <tr>\n",
       "      <th>2</th>\n",
       "      <td>Image_3.jpg</td>\n",
       "      <td>FastNLM_SpeckeNoise_Image_3.jpg</td>\n",
       "      <td>NaN</td>\n",
       "    </tr>\n",
       "    <tr>\n",
       "      <th>3</th>\n",
       "      <td>Image_4.jpg</td>\n",
       "      <td>FastNLM_SpeckeNoise_Image_4.jpg</td>\n",
       "      <td>NaN</td>\n",
       "    </tr>\n",
       "    <tr>\n",
       "      <th>4</th>\n",
       "      <td>Image_5.jpg</td>\n",
       "      <td>FastNLM_SpeckeNoise_Image_5.jpg</td>\n",
       "      <td>NaN</td>\n",
       "    </tr>\n",
       "    <tr>\n",
       "      <th>5</th>\n",
       "      <td>Image_6.jpg</td>\n",
       "      <td>FastNLM_SpeckeNoise_Image_6.jpg</td>\n",
       "      <td>NaN</td>\n",
       "    </tr>\n",
       "    <tr>\n",
       "      <th>6</th>\n",
       "      <td>Image_7.jpg</td>\n",
       "      <td>FastNLM_SpeckeNoise_Image_7.jpg</td>\n",
       "      <td>NaN</td>\n",
       "    </tr>\n",
       "    <tr>\n",
       "      <th>7</th>\n",
       "      <td>Image_8.jpg</td>\n",
       "      <td>FastNLM_SpeckeNoise_Image_8.jpg</td>\n",
       "      <td>NaN</td>\n",
       "    </tr>\n",
       "  </tbody>\n",
       "</table>\n",
       "</div>"
      ],
      "text/plain": [
       "  Original Image                   Denoised Image  FSIM\n",
       "0    Image_1.jpg  FastNLM_SpeckeNoise_Image_1.jpg   NaN\n",
       "1    Image_2.jpg  FastNLM_SpeckeNoise_Image_2.jpg   NaN\n",
       "2    Image_3.jpg  FastNLM_SpeckeNoise_Image_3.jpg   NaN\n",
       "3    Image_4.jpg  FastNLM_SpeckeNoise_Image_4.jpg   NaN\n",
       "4    Image_5.jpg  FastNLM_SpeckeNoise_Image_5.jpg   NaN\n",
       "5    Image_6.jpg  FastNLM_SpeckeNoise_Image_6.jpg   NaN\n",
       "6    Image_7.jpg  FastNLM_SpeckeNoise_Image_7.jpg   NaN\n",
       "7    Image_8.jpg  FastNLM_SpeckeNoise_Image_8.jpg   NaN"
      ]
     },
     "metadata": {},
     "output_type": "display_data"
    }
   ],
   "source": [
    "original_folder = \"../Image_Dataset/Original_Images\"\n",
    "denoised_folder = \"../Image_Dataset/FastNLM_Speckle_Images\"\n",
    "\n",
    "results_df, avg_fsim = evaluate_fsim(original_folder, denoised_folder)\n",
    "display(results_df)"
   ]
  }
 ],
 "metadata": {
  "kernelspec": {
   "display_name": "Python 3 (ipykernel)",
   "language": "python",
   "name": "python3"
  },
  "language_info": {
   "codemirror_mode": {
    "name": "ipython",
    "version": 3
   },
   "file_extension": ".py",
   "mimetype": "text/x-python",
   "name": "python",
   "nbconvert_exporter": "python",
   "pygments_lexer": "ipython3",
   "version": "3.10.13"
  }
 },
 "nbformat": 4,
 "nbformat_minor": 5
}
