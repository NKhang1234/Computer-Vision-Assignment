{
 "cells": [
  {
   "cell_type": "code",
   "execution_count": 9,
   "id": "bac3886d-72f8-4519-8198-585315bf657e",
   "metadata": {},
   "outputs": [],
   "source": [
    "import cv2\n",
    "import numpy as np\n",
    "import os\n",
    "import time"
   ]
  },
  {
   "cell_type": "code",
   "execution_count": 10,
   "id": "041fe0f0-ed36-4c67-966d-1de1700e2951",
   "metadata": {},
   "outputs": [],
   "source": [
    "def fast_nl_means_denoising(image_path, h=10):\n",
    "    image = cv2.imread(image_path, cv2.IMREAD_GRAYSCALE)\n",
    "    if image is None:\n",
    "        raise ValueError(\"Image not found or invalid image path\")\n",
    "    denoised_image = cv2.fastNlMeansDenoising(image, None, h, 7, 51)\n",
    "    return denoised_image"
   ]
  },
  {
   "cell_type": "code",
   "execution_count": 11,
   "id": "cd95d9bd-5c7d-4292-ae42-a8de520415b3",
   "metadata": {},
   "outputs": [],
   "source": [
    "source_folder = \"../Image_Dataset/Salt_and_Pepper_Images\"  \n",
    "destination_folder = \"../Image_Dataset/FastNLM_SaltPepper_Images\"  \n",
    "if not os.path.exists(destination_folder):\n",
    "    os.makedirs(destination_folder)"
   ]
  },
  {
   "cell_type": "code",
   "execution_count": 12,
   "id": "ffe84117-180b-4c16-9d78-38c25ddb363d",
   "metadata": {},
   "outputs": [
    {
     "name": "stdout",
     "output_type": "stream",
     "text": [
      "Processed and saved: ../Image_Dataset/FastNLM_SaltPepper_Images\\FastNLM_Salt_and_Pepper_Image_a.jpg | Time taken: 2.0374 seconds\n",
      "Processed and saved: ../Image_Dataset/FastNLM_SaltPepper_Images\\FastNLM_Salt_and_Pepper_Image_b.jpg | Time taken: 1.6198 seconds\n",
      "Processed and saved: ../Image_Dataset/FastNLM_SaltPepper_Images\\FastNLM_Salt_and_Pepper_Image_c.jpg | Time taken: 1.8288 seconds\n",
      "Processed and saved: ../Image_Dataset/FastNLM_SaltPepper_Images\\FastNLM_Salt_and_Pepper_Image_d.jpg | Time taken: 1.2951 seconds\n",
      "Processed and saved: ../Image_Dataset/FastNLM_SaltPepper_Images\\FastNLM_Salt_and_Pepper_Image_e.jpg | Time taken: 1.4966 seconds\n",
      "Processed and saved: ../Image_Dataset/FastNLM_SaltPepper_Images\\FastNLM_Salt_and_Pepper_Image_f.jpg | Time taken: 1.4513 seconds\n",
      "Processed and saved: ../Image_Dataset/FastNLM_SaltPepper_Images\\FastNLM_Salt_and_Pepper_Image_g.jpg | Time taken: 1.3295 seconds\n",
      "Processed and saved: ../Image_Dataset/FastNLM_SaltPepper_Images\\FastNLM_Salt_and_Pepper_Image_h.jpg | Time taken: 1.2492 seconds\n",
      "Processed and saved: ../Image_Dataset/FastNLM_SaltPepper_Images\\FastNLM_Salt_and_Pepper_Image_i.jpg | Time taken: 1.3359 seconds\n",
      "Processed and saved: ../Image_Dataset/FastNLM_SaltPepper_Images\\FastNLM_Salt_and_Pepper_Image_j.jpg | Time taken: 1.3429 seconds\n",
      "Processed and saved: ../Image_Dataset/FastNLM_SaltPepper_Images\\FastNLM_Salt_and_Pepper_Image_k.jpg | Time taken: 1.4656 seconds\n",
      "Processed and saved: ../Image_Dataset/FastNLM_SaltPepper_Images\\FastNLM_Salt_and_Pepper_Image_l.jpg | Time taken: 1.6968 seconds\n",
      "Processed and saved: ../Image_Dataset/FastNLM_SaltPepper_Images\\FastNLM_Salt_and_Pepper_Image_m.jpg | Time taken: 1.4631 seconds\n",
      "Processed and saved: ../Image_Dataset/FastNLM_SaltPepper_Images\\FastNLM_Salt_and_Pepper_Image_n.jpg | Time taken: 1.3706 seconds\n",
      "Processed and saved: ../Image_Dataset/FastNLM_SaltPepper_Images\\FastNLM_Salt_and_Pepper_Image_o.jpg | Time taken: 1.2866 seconds\n",
      "Processed and saved: ../Image_Dataset/FastNLM_SaltPepper_Images\\FastNLM_Salt_and_Pepper_Image_p.jpg | Time taken: 1.3214 seconds\n",
      "Processed and saved: ../Image_Dataset/FastNLM_SaltPepper_Images\\FastNLM_Salt_and_Pepper_Image_q.jpg | Time taken: 1.3303 seconds\n",
      "Processed and saved: ../Image_Dataset/FastNLM_SaltPepper_Images\\FastNLM_Salt_and_Pepper_Image_r.jpg | Time taken: 1.3476 seconds\n",
      "Processed and saved: ../Image_Dataset/FastNLM_SaltPepper_Images\\FastNLM_Salt_and_Pepper_Image_s.jpg | Time taken: 1.3063 seconds\n",
      "Processed and saved: ../Image_Dataset/FastNLM_SaltPepper_Images\\FastNLM_Salt_and_Pepper_Image_t.jpg | Time taken: 1.5217 seconds\n",
      "Total processing time: 29.0964 seconds\n",
      "Average processing time: 1.4548 seconds\n",
      "Apply Fast Non-Local Means Successfully\n"
     ]
    }
   ],
   "source": [
    "total_time = 0\n",
    "for filename in os.listdir(source_folder):\n",
    "    image_path = os.path.join(source_folder, filename)\n",
    "    if filename.lower().endswith(('.png', '.jpg', '.jpeg')):\n",
    "        try:\n",
    "            start_time = time.time()\n",
    "            denoised_image = fast_nl_means_denoising(image_path, h=13)\n",
    "            end_time = time.time()\n",
    "            execution_time = end_time - start_time\n",
    "            total_time += execution_time\n",
    "            \n",
    "            denoised_image_path = os.path.join(destination_folder, f\"FastNLM_{filename}\")\n",
    "            cv2.imwrite(denoised_image_path, denoised_image)\n",
    "            print(f\"Processed and saved: {denoised_image_path} | Time taken: {execution_time:.4f} seconds\")\n",
    "        except Exception as e:\n",
    "            print(f\"Failed to process image {filename}: {e}\")\n",
    "            \n",
    "print(f\"Total processing time: {total_time:.4f} seconds\")\n",
    "print(f\"Average processing time: {total_time / 20:.4f} seconds\")\n",
    "print(\"Apply Fast Non-Local Means Successfully\")"
   ]
  }
 ],
 "metadata": {
  "kernelspec": {
   "display_name": "Python 3 (ipykernel)",
   "language": "python",
   "name": "python3"
  },
  "language_info": {
   "codemirror_mode": {
    "name": "ipython",
    "version": 3
   },
   "file_extension": ".py",
   "mimetype": "text/x-python",
   "name": "python",
   "nbconvert_exporter": "python",
   "pygments_lexer": "ipython3",
   "version": "3.10.13"
  }
 },
 "nbformat": 4,
 "nbformat_minor": 5
}
